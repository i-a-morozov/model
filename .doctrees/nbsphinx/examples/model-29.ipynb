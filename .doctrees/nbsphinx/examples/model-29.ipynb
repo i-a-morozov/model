{
 "cells": [
  {
   "attachments": {},
   "cell_type": "markdown",
   "id": "d8abb129-73c7-49ca-bb76-140f1813d29a",
   "metadata": {},
   "source": [
    "# Example-30: Orbit (effect of transverse shift)"
   ]
  },
  {
   "cell_type": "code",
   "execution_count": 1,
   "id": "6452d9bb-6608-4fa9-ab8f-78531fac5fa0",
   "metadata": {},
   "outputs": [],
   "source": [
    "# In this example effect of transverse shifts on closed orbit is illustrated\n",
    "# Quadrupoles and sextupoles are shifted in transverse planes\n",
    "# Given shifts variations, effect on orbit at a singe location is computed with MC sampling"
   ]
  },
  {
   "cell_type": "code",
   "execution_count": 2,
   "id": "394b5f57-0e62-4d70-ac60-1b4a06b35e76",
   "metadata": {},
   "outputs": [],
   "source": [
    "# Import\n",
    "\n",
    "import torch\n",
    "torch.set_printoptions(linewidth=128)\n",
    "\n",
    "import matplotlib\n",
    "from matplotlib import pyplot as plt\n",
    "matplotlib.rcParams['text.usetex'] = True\n",
    "\n",
    "from twiss import twiss\n",
    "\n",
    "from ndmap.signature import chop\n",
    "from ndmap.evaluate import evaluate\n",
    "from ndmap.pfp import parametric_fixed_point\n",
    "\n",
    "from ndmap.pfp import clean_point\n",
    "from ndmap.pfp import chain_point\n",
    "from ndmap.pfp import matrix\n",
    "\n",
    "from model.library.drift import Drift\n",
    "from model.library.quadrupole import Quadrupole\n",
    "from model.library.sextupole import Sextupole\n",
    "from model.library.dipole import Dipole\n",
    "from model.library.line import Line\n",
    "\n",
    "from model.command.wrapper import wrapper\n",
    "from model.command.wrapper import group\n",
    "\n",
    "from model.command.orbit import orbit"
   ]
  },
  {
   "cell_type": "code",
   "execution_count": 3,
   "id": "22c3548a-c486-4d1f-bd9e-329d32c7588d",
   "metadata": {},
   "outputs": [],
   "source": [
    "# Define simple FODO based lattice using nested lines\n",
    "\n",
    "DR = Drift('DR', 0.25)\n",
    "BM = Dipole('BM', 3.50, torch.pi/4.0)\n",
    "\n",
    "QF_A = Quadrupole('QF_A', 0.5, +0.20)\n",
    "QD_A = Quadrupole('QD_A', 0.5, -0.19)\n",
    "QF_B = Quadrupole('QF_B', 0.5, +0.20)\n",
    "QD_B = Quadrupole('QD_B', 0.5, -0.19)\n",
    "QF_C = Quadrupole('QF_C', 0.5, +0.20)\n",
    "QD_C = Quadrupole('QD_C', 0.5, -0.19)\n",
    "QF_D = Quadrupole('QF_D', 0.5, +0.20)\n",
    "QD_D = Quadrupole('QD_D', 0.5, -0.19)\n",
    "\n",
    "SF_A = Sextupole('SF_A', 0.25, +0.75)\n",
    "SD_A = Sextupole('SD_A', 0.25, -1.25)\n",
    "SF_B = Sextupole('SF_B', 0.25, +0.75)\n",
    "SD_B = Sextupole('SD_B', 0.25, -1.25)\n",
    "SF_C = Sextupole('SF_C', 0.25, +0.75)\n",
    "SD_C = Sextupole('SD_C', 0.25, -1.25)\n",
    "SF_D = Sextupole('SF_D', 0.25, +0.75)\n",
    "SD_D = Sextupole('SD_D', 0.25, -1.25)\n",
    "\n",
    "FODO_A = Line('FODO_A', [QF_A, DR, SF_A, DR, BM, DR, SD_A, DR, QD_A, QD_A, DR, SD_A, DR, BM, DR, SF_A, DR, QF_A], propagate=True, dp=0.0, exact=False, output=False, matrix=False)\n",
    "FODO_B = Line('FODO_B', [QF_B, DR, SF_B, DR, BM, DR, SD_B, DR, QD_B, QD_B, DR, SD_B, DR, BM, DR, SF_B, DR, QF_B], propagate=True, dp=0.0, exact=False, output=False, matrix=False)\n",
    "FODO_C = Line('FODO_C', [QF_C, DR, SF_C, DR, BM, DR, SD_C, DR, QD_C, QD_C, DR, SD_C, DR, BM, DR, SF_C, DR, QF_C], propagate=True, dp=0.0, exact=False, output=False, matrix=False)\n",
    "FODO_D = Line('FODO_D', [QF_D, DR, SF_D, DR, BM, DR, SD_D, DR, QD_D, QD_D, DR, SD_D, DR, BM, DR, SF_D, DR, QF_D], propagate=True, dp=0.0, exact=False, output=False, matrix=False)\n",
    "\n",
    "RING = Line('RING', [FODO_A, FODO_B, FODO_C, FODO_D], propagate=True, dp=0.0, exact=False, output=False, matrix=False)"
   ]
  },
  {
   "cell_type": "code",
   "execution_count": 4,
   "id": "ae7ad4e4-aee8-40d0-9db7-f4af5a7da371",
   "metadata": {},
   "outputs": [
    {
     "name": "stdout",
     "output_type": "stream",
     "text": [
      "tensor([ 1.4136e-04, -1.5725e-05, -6.0736e-04, -2.2900e-06], dtype=torch.float64)\n"
     ]
    }
   ],
   "source": [
    "# Set transverse error shifts for quadrupoles and sextupoles\n",
    "\n",
    "groups = (('dx', ['Quadrupole'], None, None),\n",
    "          ('dy', ['Quadrupole'], None, None), \n",
    "          ('dx', ['Sextupole'], None, None), \n",
    "          ('dy', ['Sextupole'], None, None))\n",
    "\n",
    "ring, table, _ = group(RING, 'FODO_A', 'FODO_D', *groups, alignment=True, root=True)\n",
    "\n",
    "dx_quad = 100.0E-6*torch.randn(8, dtype=torch.float64)\n",
    "dy_quad = 100.0E-6*torch.randn(8, dtype=torch.float64)\n",
    "\n",
    "dx_sext = 200.0E-6*torch.randn(8, dtype=torch.float64)\n",
    "dy_sext = 200.0E-6*torch.randn(8, dtype=torch.float64)\n",
    "\n",
    "# Test \n",
    "\n",
    "state = torch.tensor(4*[0.0], dtype=torch.float64)\n",
    "print(ring(state, dx_quad, dy_quad, dx_sext, dy_sext))"
   ]
  },
  {
   "cell_type": "code",
   "execution_count": 5,
   "id": "03d27c03-2365-4ab9-878c-f18ff260ec09",
   "metadata": {},
   "outputs": [
    {
     "name": "stdout",
     "output_type": "stream",
     "text": [
      "tensor([ 1.7361e-04, -5.1339e-06, -2.9886e-04, -3.6663e-05], dtype=torch.float64)\n",
      "tensor([ 1.7361e-04, -5.1339e-06, -2.9886e-04, -3.6663e-05], dtype=torch.float64)\n"
     ]
    }
   ],
   "source": [
    "# Compute and test closed orbit\n",
    "\n",
    "guess = torch.tensor(4*[0.0], dtype=torch.float64)\n",
    "\n",
    "fp, _ = orbit(RING, guess,  [dx_quad, dy_quad, dx_sext, dy_sext], *groups, alignment=True, limit=8, epsilon=1.0E-12)\n",
    "\n",
    "print(fp)\n",
    "print(ring(fp, dx_quad, dy_quad, dx_sext, dy_sext))"
   ]
  },
  {
   "cell_type": "code",
   "execution_count": 6,
   "id": "ddb184b7-89f8-4603-81cd-5872422116f9",
   "metadata": {},
   "outputs": [
    {
     "name": "stdout",
     "output_type": "stream",
     "text": [
      "tensor([ 1.7361e-04, -5.1339e-06, -2.9886e-04, -3.6663e-05], dtype=torch.float64)\n",
      "tensor([ 1.7361e-04, -5.1339e-06, -2.9886e-04, -3.6663e-05], dtype=torch.float64)\n"
     ]
    }
   ],
   "source": [
    "# Deviation data generation from wrapper\n",
    "\n",
    "_ = wrapper(RING, *table, verbose=True, alignment=True)\n",
    "_, data = _(fp, dx_quad, dy_quad, dx_sext, dy_sext)\n",
    "\n",
    "print(fp)\n",
    "print(RING(fp, data=data, alignment=True))"
   ]
  },
  {
   "cell_type": "code",
   "execution_count": 7,
   "id": "e7fca183-2f03-4afd-a809-42cf47774b29",
   "metadata": {},
   "outputs": [
    {
     "data": {
      "image/png": "[encoded data removed]",
      "text/plain": [
       "<Figure size 1200x500 with 2 Axes>"
      ]
     },
     "metadata": {},
     "output_type": "display_data"
    }
   ],
   "source": [
    "# Orbit sensitivity with MC\n",
    "\n",
    "def fn(dx_quad, dy_quad, dx_sext, dy_sext):\n",
    "    guess = torch.tensor(4*[0.0], dtype=torch.float64)\n",
    "    point, _ = orbit(RING, guess,  [dx_quad, dy_quad, dx_sext, dy_sext], *groups, alignment=True, limit=64, epsilon=None)\n",
    "    return point\n",
    "\n",
    "dx_quad = 100.0E-6*torch.randn((2**12, 8), dtype=torch.float64)\n",
    "dy_quad = 100.0E-6*torch.randn((2**12, 8), dtype=torch.float64)\n",
    "\n",
    "dx_sext = 200.0E-6*torch.randn((2**12, 8), dtype=torch.float64)\n",
    "dy_sext = 200.0E-6*torch.randn((2**12, 8), dtype=torch.float64)\n",
    "\n",
    "cqx, cpx, cqy, cpy = torch.vmap(fn)(dx_quad, dy_quad, dx_sext, dy_sext).T\n",
    "\n",
    "fig, (ax, ay) = plt.subplots(1, 2, figsize=(12, 5))\n",
    "ax.hist(cqx.cpu().numpy(), bins=100, range=(-1.0E-3, +1.0E-3), color='blue', alpha=0.7)\n",
    "ay.hist(cqy.cpu().numpy(), bins=100, range=(-1.0E-3, +1.0E-3), color='blue', alpha=0.7)\n",
    "plt.tight_layout() \n",
    "plt.show()"
   ]
  }
 ],
 "metadata": {
  "colab": {
   "collapsed_sections": [
    "myt0_gMIOq7b",
    "5d97819c"
   ],
   "name": "03_frequency.ipynb",
   "provenance": []
  },
  "kernelspec": {
   "display_name": "Python 3 (ipykernel)",
   "language": "python",
   "name": "python3"
  },
  "language_info": {
   "codemirror_mode": {
    "name": "ipython",
    "version": 3
   },
   "file_extension": ".py",
   "mimetype": "text/x-python",
   "name": "python",
   "nbconvert_exporter": "python",
   "pygments_lexer": "ipython3",
   "version": "3.12.1"
  },
  "latex_envs": {
   "LaTeX_envs_menu_present": true,
   "autoclose": false,
   "autocomplete": true,
   "bibliofile": "biblio.bib",
   "cite_by": "apalike",
   "current_citInitial": 1,
   "eqLabelWithNumbers": true,
   "eqNumInitial": 1,
   "hotkeys": {
    "equation": "Ctrl-E",
    "itemize": "Ctrl-I"
   },
   "labels_anchors": false,
   "latex_user_defs": false,
   "report_style_numbering": false,
   "user_envs_cfg": false
  }
 },
 "nbformat": 4,
 "nbformat_minor": 5
}
